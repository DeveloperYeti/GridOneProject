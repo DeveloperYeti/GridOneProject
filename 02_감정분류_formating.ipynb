{
 "cells": [
  {
   "cell_type": "code",
   "execution_count": 1,
   "metadata": {},
   "outputs": [
    {
     "name": "stdout",
     "output_type": "stream",
     "text": [
      "```json\n",
      "[\n",
      "  {\n",
      "    \"문장\": \"나는 이음식이 그냥 그렇다고 생각해.\",\n",
      "    \"감정\": \"중립\"\n",
      "  },\n",
      "  {\n",
      "    \"문장\": \"나는 이영화가 재미없다고 생각해.\",\n",
      "    \"감정\": \"부정\"\n",
      "  },\n",
      "  {\n",
      "    \"문장\": \"나는 폴리텍 대학교 학식이 별로라고 생각해.\",\n",
      "    \"감정\": \"부정\"\n",
      "  }\n",
      "]\n",
      "``` \n",
      "\n",
      "\n",
      "**분석:**\n",
      "\n",
      "* **\"나는 이음식이 그냥 그렇다고 생각해.\"**:  '그냥 그렇다'는 표현은 특별히 좋지도 나쁘지도 않다는 중립적인 의미를 가지고 있습니다. \n",
      "* **\"나는 이영화가 재미없다고 생각해.\"**: '재미없다'는 부정적인 감정을 나타내는 단어입니다.\n",
      "* **\"나는 폴리텍 대학교 학식이 별로라고 생각해.\"**: '별로하다'는 만족스럽지 않다는 부정적인 의미를 가지고 있습니다. \n",
      "\n",
      "\n",
      "\n"
     ]
    }
   ],
   "source": [
    "import ollama\n",
    "\n",
    "def generate_response(system_message, user_message, model=\"gemma2:9b\", temperature=0, top_p=1, top_k=1):\n",
    "    client = ollama.Client()\n",
    "    response = client.chat(\n",
    "        model=model,\n",
    "        stream=True,\n",
    "        messages=[\n",
    "            {\"role\": \"system\", \"content\": system_message},\n",
    "            {\"role\": \"user\", \"content\": user_message}\n",
    "        ],\n",
    "        options={\n",
    "            \"temperature\": temperature,\n",
    "            \"top_p\": top_p,\n",
    "            \"top_k\": top_k,\n",
    "        }\n",
    "    )\n",
    "    full_response = \"\"    \n",
    "    for chunk in response:\n",
    "        content = chunk['message']['content']\n",
    "        print(content, end='', flush=True)  # 실시간 스트리밍 출력\n",
    "        full_response += content  # 전체 응답 구성      \n",
    "    return full_response\n",
    "\n",
    "# 예시 사용법\n",
    "system_msg = \"\"\"\n",
    "### Instruction\n",
    "너는 인공지능 전문가야\n",
    "문장의 내용을 분석하고 감정을 긍정, 부정, 중립으로 분류해주고 JSON형태로 출력해줘\n",
    "\"\"\"\n",
    "\n",
    "# text = \"\"\"\n",
    "# #텍스트\n",
    "# 나는 이 음식이 그냥 그렇다고 생각해.\n",
    "# 나는 이 영화가 정말 재미 없어.\n",
    "# 나는 폴대하굑 학식이 맛있어.\n",
    "# \"\"\"\n",
    "user_msg =  f\"\"\"\n",
    "문장: 나는 이음식이 그냥 그렇다고 생각해.\n",
    "감정:\n",
    "\n",
    "문장: 나는 이영화가 재미없다고 생각해.\n",
    "감정:\n",
    "\n",
    "문장: 나는 폴리텍 대학교 학식이 별로라고 생각해.\n",
    "감정:\n",
    "\"\"\"\n",
    "\n",
    "response = generate_response(system_msg, user_msg, model=\"gemma2:9b\", temperature=0.5, top_p=1, top_k=1)\n",
    "# print(response)"
   ]
  }
 ],
 "metadata": {
  "kernelspec": {
   "display_name": "venv",
   "language": "python",
   "name": "python3"
  },
  "language_info": {
   "codemirror_mode": {
    "name": "ipython",
    "version": 3
   },
   "file_extension": ".py",
   "mimetype": "text/x-python",
   "name": "python",
   "nbconvert_exporter": "python",
   "pygments_lexer": "ipython3",
   "version": "3.11.8"
  }
 },
 "nbformat": 4,
 "nbformat_minor": 2
}
