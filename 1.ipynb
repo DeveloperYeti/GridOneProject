{
 "cells": [
  {
   "cell_type": "code",
   "execution_count": 4,
   "metadata": {},
   "outputs": [
    {
     "name": "stdout",
     "output_type": "stream",
     "text": [
      "1\n"
     ]
    }
   ],
   "source": [
    "print(1)"
   ]
  },
  {
   "cell_type": "code",
   "execution_count": 1,
   "metadata": {},
   "outputs": [
    {
     "name": "stdout",
     "output_type": "stream",
     "text": [
      "Hello. May I have a self-introduction please?\n"
     ]
    }
   ],
   "source": [
    "#local ollama inference\n",
    "\n",
    "import ollama\n",
    "\n",
    "response = ollama.chat(model='qwen2.5:latest', messages=[\n",
    "    {'role': 'system', 'content': '너의 이름은 폴리텍 봇이야 너는 폴리텍에서 개발되었어, 대답하는게 아니라 사용자가 입력을 넣었을 때 입력을 영어로 번역하고 영어로 출력해야해'},\n",
    "    {'role': 'user', 'content': '안녕하세요. 자기소개 부탁합니다.'}\n",
    "])\n",
    "\n",
    "print(response['message']['content'])"
   ]
  }
 ],
 "metadata": {
  "kernelspec": {
   "display_name": "venv",
   "language": "python",
   "name": "python3"
  },
  "language_info": {
   "codemirror_mode": {
    "name": "ipython",
    "version": 3
   },
   "file_extension": ".py",
   "mimetype": "text/x-python",
   "name": "python",
   "nbconvert_exporter": "python",
   "pygments_lexer": "ipython3",
   "version": "3.11.8"
  }
 },
 "nbformat": 4,
 "nbformat_minor": 2
}
