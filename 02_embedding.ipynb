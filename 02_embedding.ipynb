{
 "cells": [
  {
   "cell_type": "code",
   "execution_count": 8,
   "metadata": {},
   "outputs": [
    {
     "name": "stderr",
     "output_type": "stream",
     "text": [
      "c:\\Users\\AISW-203-122\\Desktop\\HoProject1\\py310\\Lib\\site-packages\\transformers\\tokenization_utils_base.py:1617: FutureWarning: `clean_up_tokenization_spaces` was not set. It will be set to `True` by default. This behavior will be deprecated in transformers v4.45, and will be then set to `False` by default. For more details check this issue: https://github.com/huggingface/transformers/issues/31884\n",
      "  warnings.warn(\n"
     ]
    },
    {
     "name": "stdout",
     "output_type": "stream",
     "text": [
      "tensor([[-1.2425,  0.2502, -0.4412,  ..., -0.1632, -0.2297,  0.2218],\n",
      "        [-1.4581, -0.1247, -0.3740,  ...,  0.0631,  0.3526,  0.9301],\n",
      "        [-0.9100,  0.1751,  0.2568,  ...,  0.1309, -0.4577,  0.0573],\n",
      "        [-0.1526,  0.1008,  0.0649,  ...,  0.0335, -0.1042,  0.3776],\n",
      "        [-0.2257,  0.0762,  0.8426,  ...,  0.3515, -0.3963, -0.1976]])\n",
      "\n",
      "\n",
      "======================\n",
      "\n",
      "\n",
      "Query: 오늘은 어디까지 뛸까\n",
      "\n",
      "Top 5 most similar sentences in corpus:\n",
      "오늘도 나는 달리기를 한다 (Score: 0.5788)\n",
      "마라톤을 할까 (Score: 0.5386)\n",
      "조깅은 기분이 좋다 (Score: 0.4332)\n",
      "철인 3종경기 할까 (Score: 0.3722)\n",
      "한강을 걷는다 (Score: 0.1379)\n"
     ]
    }
   ],
   "source": [
    "from sentence_transformers import SentenceTransformer, util\n",
    "import numpy as np\n",
    "\n",
    "embedder = SentenceTransformer(\"jhgan/ko-sroberta-multitask\")\n",
    "\n",
    "# Corpus with example sentences\n",
    "corpus = ['오늘도 나는 달리기를 한다',\n",
    "        '한강을 걷는다',\n",
    "        '조깅은 기분이 좋다',\n",
    "        '마라톤을 할까',\n",
    "        '철인 3종경기 할까']\n",
    "\n",
    "corpus_embeddings = embedder.encode(corpus, convert_to_tensor=True)\n",
    "print(corpus_embeddings)\n",
    "\n",
    "# Query sentences:\n",
    "queries = ['오늘은 어디까지 뛸까']\n",
    "\n",
    "# Find the closest 5 sentences of the corpus for each query sentence based on cosine similarity\n",
    "top_k = 5\n",
    "for query in queries:\n",
    "    query_embedding = embedder.encode(query, convert_to_tensor=True)\n",
    "    cos_scores = util.pytorch_cos_sim(query_embedding, corpus_embeddings)[0]\n",
    "    cos_scores = cos_scores.cpu()\n",
    "\n",
    "#We use np.argpartition, to only partially sort the top_k results\n",
    "top_results = np.argpartition(-cos_scores, range(top_k))[0:top_k]\n",
    "\n",
    "\n",
    "\n",
    "print(\"\\n\\n======================\\n\\n\")\n",
    "print(\"Query:\", query)\n",
    "print(\"\\nTop 5 most similar sentences in corpus:\")\n",
    "\n",
    "for idx in top_results[0:top_k]:\n",
    "    print(corpus[idx].strip(), \"(Score: %.4f)\" % (cos_scores[idx]))"
   ]
  }
 ],
 "metadata": {
  "kernelspec": {
   "display_name": "venv",
   "language": "python",
   "name": "python3"
  },
  "language_info": {
   "codemirror_mode": {
    "name": "ipython",
    "version": 3
   },
   "file_extension": ".py",
   "mimetype": "text/x-python",
   "name": "python",
   "nbconvert_exporter": "python",
   "pygments_lexer": "ipython3",
   "version": "3.11.8"
  }
 },
 "nbformat": 4,
 "nbformat_minor": 2
}
